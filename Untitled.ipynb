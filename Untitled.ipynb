{
 "cells": [
  {
   "cell_type": "code",
   "execution_count": 1,
   "metadata": {},
   "outputs": [],
   "source": [
    "import minipy as nmpy\n",
    "from minipy import min"
   ]
  },
  {
   "cell_type": "code",
   "execution_count": 2,
   "metadata": {},
   "outputs": [],
   "source": [
    "path = \"/Users/ilanmoscovitz/Documents/Metis/Projects/local_lw/wittgenstein_project/wittgenstein/\"\n",
    "file = \"ripper.py\"\n",
    "x=min(path+file)"
   ]
  },
  {
   "cell_type": "code",
   "execution_count": 3,
   "metadata": {},
   "outputs": [
    {
     "data": {
      "text/plain": [
       "'importreimportsysimportwarningsdefmin(filename,save=True,random_state=42):if\\'.py\\'notinfilename:warnings.warn(f\\'IOWarning:minipyisintendedforusewith.pyfiles.Itmaynotworkasintendedfor{filename}\\')code=[]withopen(filename,\"r\")asf:forlineinf:line=rm_whitespace(line)line=rm_inlinecomments(line)code.append(line)code=\\'\\'.join(code)code=rm_docstrings(code)ifsave:newfilename=filename.replace(\\'.py\\',\\'_min.py\\')withopen(newfilename,\\'w+\\')asf:f.write(code)returncodedefscore(filename):withopen(filename,\\'r\\')asf:oldsize=sys.getsizeof(f.read())try:withopen(filename.replace(\\'.py\\',\\'_min.py\\'),\\'r\\')asf:newsize=sys.getsizeof(f.read())except:newsize=sys.getsizeof(min(filename,save=False))print(f\\'Yousaved{oldsize-newsize}bytes\\')deffit_score(filename):withopen(filename,\\'r\\')asf:oldsize=sys.getsizeof(f.read())try:withopen(filename.replace(\\'.py\\',\\'_min.py\\'),\\'r\\')asf:newsize=sys.getsizeof(f.read())except:newsize=sys.getsizeof(min(filename,save=True))print(f\\'Yousaved{oldsize-newsize}bytes\\')defrm_whitespace(string):fortokin[\\'\\\\n\\',\\'\\\\t\\',\\'\\\\r\\',\\'\\']:string=string.replace(tok,\\'\\')returnstringdefrm_inlinecomments(line):result=[]forcharinline:ifchar!=\\'result.append(char)else:breakreturn\\'\\'.join(result)defrm_docstrings(text_block):text_block=re.sub(r\\'\\',\\'\\',text_block)text_block=re.sub(r\"\",\\'\\',text_block)returntext_block'"
      ]
     },
     "execution_count": 3,
     "metadata": {},
     "output_type": "execute_result"
    }
   ],
   "source": [
    "minipypy = '/Users/ilanmoscovitz/Documents/Metis/Projects/minipy_project/minipy.py'\n",
    "min(minipypy)"
   ]
  },
  {
   "cell_type": "code",
   "execution_count": 4,
   "metadata": {},
   "outputs": [],
   "source": [
    "#    with open('minipy.py', 'r') as myself:\n",
    "#        for n in range(39):\n",
    "#            f.readline()\n",
    "#        line39 = f.readline()\n",
    "\n",
    "#    print(line39)\n",
    "\n",
    "    #text_block = text_block.replace(f\"MARKER = '\"\"\"\"'\",'') # For recursive compatibility"
   ]
  },
  {
   "cell_type": "code",
   "execution_count": 5,
   "metadata": {},
   "outputs": [
    {
     "data": {
      "text/plain": [
       "'importpandasaspdimportcopyimportmathimportwarningsfromwittgensteinimportbasefrom.baseimportCond,Rule,Rulesetfrom.baseimportrnd,fit_bins,bin_transform,score_accuracyclassRIPPER:def__init__(self,k=2,prune_size=.33,dl_allowance=64,verbosity=0):self.prune_size=prune_sizeself.dl_allowance=dl_allowanceself.k=kself.verbosity=verbositydef__str__(self):fitstr=f\\'withfitruleset\\'ifhasattr(self,\\'ruleset_\\')else\\'(unfit)\\'returnf\\'<RIPPERobject{fitstr}(k={self.k},prune_size={self.prune_size},dl_allowance={self.dl_allowance})>\\'__repr__=__str__deffit(self,df,y=None,class_feat=None,pos_class=None,n_discretize_bins=None,random_state=None):df,self.class_feat,self.pos_class=base.trainset_classfeat_posclass(df,y=y,class_feat=class_feat,pos_class=pos_class)numeric_feats=base.find_numeric_feats(df,min_unique=n_discretize_bins,ignore_feats=[self.class_feat])ifnumeric_feats:ifn_discretize_binsisnotNone:ifself.verbosity==1:print(f\\'binningdata...\\\\n\\')elifself.verbosity>=2:print(f\\'binningfeatures{numeric_feats}...\\')self.bin_transformer_=fit_bins(df,n_bins=n_discretize_bins,output=False,ignore_feats=[self.class_feat],verbosity=self.verbosity)binned_df=bin_transform(df,self.bin_transformer_)else:n_unique_values=sum([len(u)foruin[df[f].unique()forfinnumeric_feats]])warnings.warn(f\\'Optionalparamn_discretize_bins=None,butthereareapparentnumericfeatures:{numeric_feats}.\\\\nTreating{n_unique_values}numericvaluesasnominal\\',RuntimeWarning)binned_df=Noneelse:binned_df=Nonepos_df,neg_df=base.pos_neg_split(df,self.class_feat,self.pos_class)ifbinned_dfisNoneelsebase.pos_neg_split(binned_df,self.class_feat,self.pos_class)pos_df=pos_df.drop(self.class_feat,axis=1)neg_df=neg_df.drop(self.class_feat,axis=1)self._set_possible_conds(df)self.ruleset_=Ruleset()self.ruleset_=self._grow_ruleset(pos_df,neg_df,prune_size=self.prune_size,dl_allowance=self.dl_allowance,random_state=random_state)ifself.verbosity>=1:print()print(\\'GREWINITIALRULESET:\\')self.ruleset_.out_pretty()print()foriterinrange(self.k):iter_random_state=random_state+100ifrandom_stateisnotNoneelseNoneifself.verbosity>=1:print(f\\'optimizationrun{iter+1}of{self.k}\\')newset=self._optimize_ruleset(self.ruleset_,pos_df,neg_df,prune_size=self.prune_size,random_state=iter_random_state)ifself.verbosity>=1:print()print(\\'OPTIMIZEDRULESET:\\')ifself.verbosity>=2:print(f\\'iteration{iter+1}of{self.k}\\\\nmodifiedrules{[iforiinrange(len(self.ruleset_.rules))ifself.ruleset_.rules[i]!=newset.rules[i]]}\\')newset.out_pretty()print()self.ruleset_=newsetpos_remaining,neg_remaining=base.pos_neg_split(df,self.class_feat,self.pos_class)pos_remaining=pos_remaining.drop(self.class_feat,axis=1)neg_remaining=neg_remaining.drop(self.class_feat,axis=1)pos_remaining,neg_remaining=base.rm_covered(self.ruleset_,pos_remaining,neg_remaining)iflen(pos_remaining)>=1:ifself.verbosity>=2:print(f\\'{len(pos_remaining)}posleft.Growingfinalrules...\\')newset=self._grow_ruleset(pos_remaining,neg_remaining,initial_ruleset=self.ruleset_,prune_size=self.prune_size,dl_allowance=self.dl_allowance,random_state=random_state)ifself.verbosity>=1:print(\\'GREWFINALRULES\\')newset.out_pretty()print()self.ruleset_=newsetelse:ifself.verbosity>=1:print(\\'Allposcovered\\\\n\\')ifself.verbosity>=2:print(\\'Optimizingdl...\\')mdl_subset,_=_rs_total_bits(self.ruleset_,self.ruleset_.possible_conds,pos_df,neg_df,bestsubset_dl=True,ret_bestsubset=True,verbosity=self.verbosity)self.ruleset_=mdl_subsetifself.verbosity>=1:print(\\'FINALRULESET:\\')self.ruleset_.out_pretty()print()defpredict(self,X_df,give_reasons=False):ifnothasattr(self,\\'ruleset_\\'):raiseAttributeError(\\'YoushouldfitaRIPPERobjectbeforemakingpredictionswithit.\\')else:returnself.ruleset_.predict(X_df,give_reasons=give_reasons)defscore(self,X,y,score_function=score_accuracy):predictions=self.predict(X)iftype(y)==pd.core.frame.DataFrame:actuals=[yi==self.pos_classforyiiny.tolist()]else:actuals=[yi==self.pos_classforyiiny]returnscore_function(actuals,predictions)def_set_theory_dl_lookup(self,df,size=15,verbosity=0):self.dl_dict={}temp=Ruleset()temp._set_possible_conds(df,df)possible_conds=temp.possible_condsforninrange(1,size+1):rule=Rule([Cond(\\'_\\',\\'_\\')]*n)dl=_r_theory_bits(rule,possible_conds,bits_dict=None,verbosity=verbosity)self.dl_dict[n]=dlifverbosity>=2:print(f\\'updateddlforrulesize{n}:{dl}\\')def_grow_ruleset(self,pos_df,neg_df,prune_size,dl_allowance,initial_ruleset=None,random_state=None):pos_remaining=pos_df.copy()neg_remaining=neg_df.copy()ifinitial_rulesetisNone:ruleset=Ruleset()ruleset._set_possible_conds(pos_df,neg_df)else:ruleset=copy.deepcopy(initial_ruleset)ruleset_dl=Nonemdl=Nonedl_diff=0ifself.verbosity>=2:print(\\'growingruleset...\\')print()whilelen(pos_remaining)>0anddl_diff<=self.dl_allowance:pos_growset,pos_pruneset=base.df_shuffled_split(pos_remaining,(1-prune_size),random_state=random_state)neg_growset,neg_pruneset=base.df_shuffled_split(neg_remaining,(1-prune_size),random_state=random_state)ifself.verbosity>=2:print(f\\'pos_growset{len(pos_growset)}pos_pruneset{len(pos_pruneset)}\\')print(f\\'neg_growset{len(neg_growset)}neg_pruneset{len(neg_pruneset)}\\')iflen(pos_growset)==0:breakgrown_rule=base.grow_rule(pos_growset,neg_growset,ruleset.possible_conds,verbosity=self.verbosity)ifgrown_rule.isempty():breakpruned_rule=base.prune_rule(grown_rule,_RIPPER_growphase_prune_metric,pos_pruneset,neg_pruneset,verbosity=self.verbosity)ruleset.add(pruned_rule)ifself.verbosity>=2:print(f\"updatedruleset:{ruleset.truncstr(direction=\\'right\\')}\")print()ifruleset_dlisNone:rule_dl=_r_theory_bits(pruned_rule,ruleset.possible_conds,verbosity=self.verbosity)theory_dl=rule_dldata_dl=_exceptions_bits(ruleset,pos_df,neg_df,verbosity=self.verbosity)ruleset_dl=theory_dl+data_dlmdl=ruleset_dlelse:rule_dl=_r_theory_bits(pruned_rule,ruleset.possible_conds,verbosity=self.verbosity)theory_dl+=rule_dldata_dl=_exceptions_bits(ruleset,pos_df,neg_df,verbosity=self.verbosity)ruleset_dl=theory_dl+data_dldl_diff=ruleset_dl-mdlifself.verbosity>=3:print(f\\'ruledl:{rnd(rule_dl)}\\')print(f\\'updatedtheorydl:{rnd(theory_dl)}\\')print(f\\'exceptions:{rnd(data_dl)}\\')print(f\\'totaldl:{rnd(ruleset_dl)}\\')ifdl_diff<=self.dl_allowance:print(f\\'mdl{rnd(mdl)}(diff{rnd(dl_diff)}<={rnd(self.dl_allowance)})\\')else:print(f\\'mdl{rnd(mdl)}dl-halt:diff{rnd(dl_diff)}exceedsallowance({rnd(self.dl_allowance)})\\')mdl=ruleset_dlifruleset_dl<mdlelsemdlpos_remaining,neg_remaining=base.rm_covered(pruned_rule,pos_remaining,neg_remaining)ifself.verbosity>=3:print(f\\'examplesremaining:{len(pos_remaining)}pos,{len(neg_remaining)}neg\\')print()returnrulesetdef_optimize_ruleset(self,ruleset,pos_df,neg_df,prune_size,random_state=None):ifself.verbosity>=2:print(\\'optimizingruleset...\\')print()pos_remaining=pos_df.copy()neg_remaining=neg_df.copy()original_ruleset=copy.deepcopy(ruleset)ifself.verbosity>=4:print(\\'calculateoriginalrulesetpotentialdl...\\')original_dl=_rs_total_bits(original_ruleset,original_ruleset.possible_conds,pos_df,neg_df,bestsubset_dl=True,verbosity=self.verbosity)ifself.verbosity>=3:print(f\\'originalrulesetpotentialdl:{rnd(original_dl)}\\')print()new_ruleset=copy.deepcopy(ruleset)fori,ruleinenumerate(original_ruleset.rules):pos_growset,pos_pruneset=base.df_shuffled_split(pos_remaining,(1-prune_size),random_state=random_state)neg_growset,neg_pruneset=base.df_shuffled_split(neg_remaining,(1-prune_size),random_state=random_state)iflen(pos_growset)==0:breakifself.verbosity>=4:print(f\\'creatingreplacementfor{i}of{len(original_ruleset.rules)}:{ruleset.rules[i]}\\')g_replacement=base.grow_rule(pos_growset,neg_growset,original_ruleset.possible_conds,initial_rule=Rule(),verbosity=self.verbosity)replacement_ruleset=Ruleset(base.i_replaced(original_ruleset.rules,i,g_replacement))pr_replacement=base.prune_rule(g_replacement,_RIPPER_optimization_prune_metric,pos_pruneset,neg_pruneset,eval_index_on_ruleset=(i,replacement_ruleset),verbosity=self.verbosity)replacement_ruleset=Ruleset(base.i_replaced(original_ruleset.rules,i,pr_replacement))ifself.verbosity>=3:print(f\\'grewreplacement{g_replacement}\\')print(f\\'prunedreplacementis{pr_replacement}\\')ifself.verbosity>=3:print(f\\'creatingrevisionfor{i}of{len(original_ruleset.rules)}:{ruleset.rules[i]}\\')g_revision=base.grow_rule(pos_growset,neg_growset,original_ruleset.possible_conds,initial_rule=ruleset.rules[i],verbosity=self.verbosity)revision_ruleset=Ruleset(base.i_replaced(original_ruleset.rules,i,g_revision))pr_revision=base.prune_rule(g_revision,_RIPPER_optimization_prune_metric,pos_pruneset,neg_pruneset,eval_index_on_ruleset=(i,revision_ruleset),verbosity=self.verbosity)revision_ruleset=Ruleset(base.i_replaced(original_ruleset.rules,i,pr_revision))ifself.verbosity>=3:print(f\\'grewrevision{g_replacement}\\')print(f\\'prunedrevisionis{pr_replacement}\\')print()ifself.verbosity>=3:print(f\\'calculatepotentialdlfordswithreplacement{pr_replacement}\\')replacement_dl=_rs_total_bits(replacement_ruleset,original_ruleset.possible_conds,pos_df,neg_df,bestsubset_dl=True,verbosity=self.verbosity)\\\\ifpr_replacement!=ruleelseoriginal_dlifself.verbosity>=3:print(f\\'calculatepotentialdlfordswithrevision{pr_revision}\\')revision_dl=_rs_total_bits(revision_ruleset,original_ruleset.possible_conds,pos_df,neg_df,bestsubset_dl=True,verbosity=self.verbosity)\\\\ifpr_revision!=ruleelseoriginal_dlbest_rule=[rule,pr_replacement,pr_revision][base.argmin([original_dl,replacement_dl,revision_dl])]ifself.verbosity>=2:print(f\\'\\\\nrule{i+1}of{len(original_ruleset.rules)}\\')rep_str=pr_replacement.__str__()ifpr_replacement!=ruleelse\\'unchanged\\'rev_str=pr_revision.__str__()ifpr_revision!=ruleelse\\'unchanged\\'best_str=best_rule.__str__()ifbest_rule!=ruleelse\\'unchanged\\'ifself.verbosity==2:print(f\\'original:{rule}\\')print(f\\'replacement:{rep_str}\\')print(f\\'revision:{rev_str}\\')print(f\\'*best:{best_str}\\')print()else:print(f\\'original:{rule})|{rnd(original_dl)}bits\\')print(f\\'replacement:{rep_str}|{rnd(replacement_dl)}bits\\')print(f\\'revision:{rev_str}|{rnd(revision_dl)}bits\\')print(f\\'*best:{best_str}|{rnd(min([replacement_dl,revision_dl,original_dl]))}bits\\')print()new_ruleset.rules[i]=best_rulepos_remaining,neg_remaining=base.rm_covered(rule,pos_remaining,neg_remaining)ifself.verbosity>=3:print(f\\'examplesremaining:{len(pos_remaining)}pos,{len(neg_remaining)}neg\\')print()iflen(pos_remaining)==0:breakreturnnew_rulesetdef_set_possible_conds(self,df):self.possible_conds=[]forfeatindf.columns.values:forvalindf[feat].unique():self.possible_conds.append(Cond(feat,val))classRulesetStats:def__init__(self):self.subset_dls=[]self.ruleset=Ruleset()self.dl=0defupdate(self,ruleset,possible_conds,pos_df,neg_df,verbosity=0):index=0whileindex<len(self.ruleset)and\\\\index<len(ruleset)and\\\\self.ruleset[index]==ruleset[index]:index+=1ifindex==len(ruleset)andindex==len(self.ruleset):ifverbosity>=4:print(f\\'notupdatingstats--norulesetchangefound\\')returnifverbosity>=4:print(f\\'updatingstatsfromindex{index}\\')self.ruleset.rules[index:]=ruleset[index:]self.subset_dls=self.subset_dls[:index]foriinrange(index,len(ruleset)):rule=ruleset[i]subset=Ruleset(ruleset.rules[:i+1])subset_dl=_rs_total_bits(subset,possible_conds,pos_df,neg_df,verbosity=verbosity)self.subset_dls.append(subset_dl)self.dl=self.subset_dls[-1]defdl_change(self,index):returnself.subset_dls[index]-self.subset_dls[index-1]defpotential_dl_stats(self,possible_conds,pos_df,neg_df,ret_ruleset=True,ret_dl=False,verbosity=0):ifnotany((ret_ruleset,ret_dl)):raiseValueError(\\'methoddl_pruned_rulesetcalledwithoutanyreturnvaluesspecified\\')tempStats=copy.deepcopy(self)i=len(tempStats.ruleset)-1whilei>0:iftempStats.dl_change(i)>0:ifverbosity>=4:print(f\\'rule{i}raiseddl--removing\\')tempStats.update(Ruleset(tempStats.ruleset[:i]+tempStats.ruleset[i+1:]),possible_conds,pos_df,neg_df)ifverbosity>=4:print(f\\'newrulesetis{tempStats.ruleset}\\')i-=1returntempStatsdef_RIPPER_growphase_prune_metric(rule,pos_pruneset,neg_pruneset):p=rule.num_covered(pos_pruneset)n=rule.num_covered(neg_pruneset)return(p-n+1)/(p+n+1)def_RIPPER_optimization_prune_metric(rule,pos_pruneset,neg_pruneset):returnbase.accuracy(rule,pos_pruneset,neg_pruneset)def_r_theory_bits(rule,possible_conds,bits_dict=None,verbosity=0):ifhasattr(rule,\\'dl\\'):returnrule.dlelse:iftype(rule)!=Rule:raiseTypeError(f\\'paramrulein_r_theory_bitsistype{type(rule)};itshouldbetypeRule\\')k=len(rule.conds)n=len(possible_conds)pr=k/nS=k*math.log2(1/pr)+(n-k)*math.log2((1/(1-pr)))K=math.log2(k)rule_dl=0.5*(K+S)ifverbosity>=5:print(f\\'ruletheorybits|{rule}k{k}n{n}pr{rnd(pr)}:{rnd(rule_dl)}bits\\')returnrule_dldef_rs_theory_bits(ruleset,possible_conds,pos_df,neg_df,verbosity=0):iftype(ruleset)!=Ruleset:raiseTypeError(f\\'paramrulesetin_rs_theory_bitsshouldbetypeRuleset\\')total=0forruleinruleset.rules:total+=_r_theory_bits(rule,possible_conds,verbosity=verbosity)ifverbosity>=5:print(f\\'rulesettheorybits|{rnd(total)}\\')returntotaldef_exceptions_bits(ruleset,pos_df,neg_df,verbosity=0):iftype(ruleset)!=Ruleset:raiseTypeError(f\\'toavoiddouble-counting,_exceptions_bitsshouldcalculateexceptionsoverentiresetofruleswithtypeRuleset\\')N=len(pos_df)+len(neg_df)p=ruleset.num_covered(pos_df)+ruleset.num_covered(neg_df)fp=ruleset.num_covered(neg_df)fn=len(pos_df)-ruleset.num_covered(pos_df)exceptions_dl=math.log2(base.nCr(p,fp))+math.log2(base.nCr((N-p),fn))ifverbosity>=5:print(f\\'exceptions_bits|{ruleset.truncstr()}:\\\\nN{N}p{p}fp{fp}fn{fn}:exceptions_bits{rnd(exceptions_dl)}\\')returnexceptions_dldef_rs_total_bits(ruleset,possible_conds,pos_df,neg_df,bestsubset_dl=False,ret_bestsubset=False,verbosity=0):iftype(ruleset)!=Ruleset:raiseTypeError(f\\'paramrulesetin_rs_total_bitsshouldbetypeRuleset\\')ifret_bestsubsetandnotbestsubset_dl:raiseValueError(f\\'bestsubset_dlmustbeTrueinordertoreturnbestsubset_dl\\')ifnotbestsubset_dl:theory_bits=_rs_theory_bits(ruleset,possible_conds,pos_df,neg_df,verbosity=verbosity)data_bits=_exceptions_bits(ruleset,pos_df,neg_df,verbosity=verbosity)ifverbosity>=3:print(f\\'totalrulesetbits|{rnd(theory_bits+data_bits)}\\')returntheory_bits+data_bitselse:subset_dls=[]theory_dl=0ifverbosity>=5:print(f\\'findbestpotentialdlfor{ruleset}:\\')fori,ruleinenumerate(ruleset.rules):subset=Ruleset(ruleset.rules[:i+1])rule_theory_dl=_r_theory_bits(rule,possible_conds,verbosity=verbosity)theory_dl+=rule_theory_dlexceptions_dl=_exceptions_bits(subset,pos_df,neg_df,verbosity=verbosity)subset_dls.append(theory_dl+exceptions_dl)ifverbosity>=5:print(f\\'subset0-{i}|dl:{rnd(subset_dls[i])}\\')mdl_ruleset=Ruleset()fori,rule,inenumerate(ruleset.rules):ifi==0orsubset_dls[i]<=subset_dls[i-1]:mdl_ruleset.add(rule)ifverbosity>=5:print(f\\'subsetdls:{[(i,rnd(dl))fori,dlinenumerate(subset_dls)]}\\')print(f\\'bestpotentialruleset:{mdl_ruleset}\\')mdl=_rs_total_bits(mdl_ruleset,possible_conds,pos_df,neg_df,bestsubset_dl=False,verbosity=0)ifverbosity>=5:print(f\\'bestpotentialdlwas{rnd(mdl)}\\')print()ifnotret_bestsubset:returnmdlelse:return(mdl_ruleset,mdl)'"
      ]
     },
     "execution_count": 5,
     "metadata": {},
     "output_type": "execute_result"
    }
   ],
   "source": [
    "x"
   ]
  },
  {
   "cell_type": "code",
   "execution_count": 6,
   "metadata": {},
   "outputs": [
    {
     "data": {
      "text/plain": [
       "'importpandasaspdimportcopyimportmathimportwarningsfromwittgensteinimportbasefrom.baseimportCond,Rule,Rulesetfrom.baseimportrnd,fit_bins,bin_transform,score_accuracyclassRIPPER:def__init__(self,k=2,prune_size=.33,dl_allowance=64,verbosity=0):self.prune_size=prune_sizeself.dl_allowance=dl_allowanceself.k=kself.verbosity=verbositydef__str__(self):fitstr=f\\'withfitruleset\\'ifhasattr(self,\\'ruleset_\\')else\\'(unfit)\\'returnf\\'<RIPPERobject{fitstr}(k={self.k},prune_size={self.prune_size},dl_allowance={self.dl_allowance})>\\'__repr__=__str__deffit(self,df,y=None,class_feat=None,pos_class=None,n_discretize_bins=None,random_state=None):df,self.class_feat,self.pos_class=base.trainset_classfeat_posclass(df,y=y,class_feat=class_feat,pos_class=pos_class)numeric_feats=base.find_numeric_feats(df,min_unique=n_discretize_bins,ignore_feats=[self.class_feat])ifnumeric_feats:ifn_discretize_binsisnotNone:ifself.verbosity==1:print(f\\'binningdata...\\\\n\\')elifself.verbosity>=2:print(f\\'binningfeatures{numeric_feats}...\\')self.bin_transformer_=fit_bins(df,n_bins=n_discretize_bins,output=False,ignore_feats=[self.class_feat],verbosity=self.verbosity)binned_df=bin_transform(df,self.bin_transformer_)else:n_unique_values=sum([len(u)foruin[df[f].unique()forfinnumeric_feats]])warnings.warn(f\\'Optionalparamn_discretize_bins=None,butthereareapparentnumericfeatures:{numeric_feats}.\\\\nTreating{n_unique_values}numericvaluesasnominal\\',RuntimeWarning)binned_df=Noneelse:binned_df=Nonepos_df,neg_df=base.pos_neg_split(df,self.class_feat,self.pos_class)ifbinned_dfisNoneelsebase.pos_neg_split(binned_df,self.class_feat,self.pos_class)pos_df=pos_df.drop(self.class_feat,axis=1)neg_df=neg_df.drop(self.class_feat,axis=1)self._set_possible_conds(df)self.ruleset_=Ruleset()self.ruleset_=self._grow_ruleset(pos_df,neg_df,prune_size=self.prune_size,dl_allowance=self.dl_allowance,random_state=random_state)ifself.verbosity>=1:print()print(\\'GREWINITIALRULESET:\\')self.ruleset_.out_pretty()print()foriterinrange(self.k):iter_random_state=random_state+100ifrandom_stateisnotNoneelseNoneifself.verbosity>=1:print(f\\'optimizationrun{iter+1}of{self.k}\\')newset=self._optimize_ruleset(self.ruleset_,pos_df,neg_df,prune_size=self.prune_size,random_state=iter_random_state)ifself.verbosity>=1:print()print(\\'OPTIMIZEDRULESET:\\')ifself.verbosity>=2:print(f\\'iteration{iter+1}of{self.k}\\\\nmodifiedrules{[iforiinrange(len(self.ruleset_.rules))ifself.ruleset_.rules[i]!=newset.rules[i]]}\\')newset.out_pretty()print()self.ruleset_=newsetpos_remaining,neg_remaining=base.pos_neg_split(df,self.class_feat,self.pos_class)pos_remaining=pos_remaining.drop(self.class_feat,axis=1)neg_remaining=neg_remaining.drop(self.class_feat,axis=1)pos_remaining,neg_remaining=base.rm_covered(self.ruleset_,pos_remaining,neg_remaining)iflen(pos_remaining)>=1:ifself.verbosity>=2:print(f\\'{len(pos_remaining)}posleft.Growingfinalrules...\\')newset=self._grow_ruleset(pos_remaining,neg_remaining,initial_ruleset=self.ruleset_,prune_size=self.prune_size,dl_allowance=self.dl_allowance,random_state=random_state)ifself.verbosity>=1:print(\\'GREWFINALRULES\\')newset.out_pretty()print()self.ruleset_=newsetelse:ifself.verbosity>=1:print(\\'Allposcovered\\\\n\\')ifself.verbosity>=2:print(\\'Optimizingdl...\\')mdl_subset,_=_rs_total_bits(self.ruleset_,self.ruleset_.possible_conds,pos_df,neg_df,bestsubset_dl=True,ret_bestsubset=True,verbosity=self.verbosity)self.ruleset_=mdl_subsetifself.verbosity>=1:print(\\'FINALRULESET:\\')self.ruleset_.out_pretty()print()defpredict(self,X_df,give_reasons=False):ifnothasattr(self,\\'ruleset_\\'):raiseAttributeError(\\'YoushouldfitaRIPPERobjectbeforemakingpredictionswithit.\\')else:returnself.ruleset_.predict(X_df,give_reasons=give_reasons)defscore(self,X,y,score_function=score_accuracy):predictions=self.predict(X)iftype(y)==pd.core.frame.DataFrame:actuals=[yi==self.pos_classforyiiny.tolist()]else:actuals=[yi==self.pos_classforyiiny]returnscore_function(actuals,predictions)def_set_theory_dl_lookup(self,df,size=15,verbosity=0):self.dl_dict={}temp=Ruleset()temp._set_possible_conds(df,df)possible_conds=temp.possible_condsforninrange(1,size+1):rule=Rule([Cond(\\'_\\',\\'_\\')]*n)dl=_r_theory_bits(rule,possible_conds,bits_dict=None,verbosity=verbosity)self.dl_dict[n]=dlifverbosity>=2:print(f\\'updateddlforrulesize{n}:{dl}\\')def_grow_ruleset(self,pos_df,neg_df,prune_size,dl_allowance,initial_ruleset=None,random_state=None):pos_remaining=pos_df.copy()neg_remaining=neg_df.copy()ifinitial_rulesetisNone:ruleset=Ruleset()ruleset._set_possible_conds(pos_df,neg_df)else:ruleset=copy.deepcopy(initial_ruleset)ruleset_dl=Nonemdl=Nonedl_diff=0ifself.verbosity>=2:print(\\'growingruleset...\\')print()whilelen(pos_remaining)>0anddl_diff<=self.dl_allowance:pos_growset,pos_pruneset=base.df_shuffled_split(pos_remaining,(1-prune_size),random_state=random_state)neg_growset,neg_pruneset=base.df_shuffled_split(neg_remaining,(1-prune_size),random_state=random_state)ifself.verbosity>=2:print(f\\'pos_growset{len(pos_growset)}pos_pruneset{len(pos_pruneset)}\\')print(f\\'neg_growset{len(neg_growset)}neg_pruneset{len(neg_pruneset)}\\')iflen(pos_growset)==0:breakgrown_rule=base.grow_rule(pos_growset,neg_growset,ruleset.possible_conds,verbosity=self.verbosity)ifgrown_rule.isempty():breakpruned_rule=base.prune_rule(grown_rule,_RIPPER_growphase_prune_metric,pos_pruneset,neg_pruneset,verbosity=self.verbosity)ruleset.add(pruned_rule)ifself.verbosity>=2:print(f\"updatedruleset:{ruleset.truncstr(direction=\\'right\\')}\")print()ifruleset_dlisNone:rule_dl=_r_theory_bits(pruned_rule,ruleset.possible_conds,verbosity=self.verbosity)theory_dl=rule_dldata_dl=_exceptions_bits(ruleset,pos_df,neg_df,verbosity=self.verbosity)ruleset_dl=theory_dl+data_dlmdl=ruleset_dlelse:rule_dl=_r_theory_bits(pruned_rule,ruleset.possible_conds,verbosity=self.verbosity)theory_dl+=rule_dldata_dl=_exceptions_bits(ruleset,pos_df,neg_df,verbosity=self.verbosity)ruleset_dl=theory_dl+data_dldl_diff=ruleset_dl-mdlifself.verbosity>=3:print(f\\'ruledl:{rnd(rule_dl)}\\')print(f\\'updatedtheorydl:{rnd(theory_dl)}\\')print(f\\'exceptions:{rnd(data_dl)}\\')print(f\\'totaldl:{rnd(ruleset_dl)}\\')ifdl_diff<=self.dl_allowance:print(f\\'mdl{rnd(mdl)}(diff{rnd(dl_diff)}<={rnd(self.dl_allowance)})\\')else:print(f\\'mdl{rnd(mdl)}dl-halt:diff{rnd(dl_diff)}exceedsallowance({rnd(self.dl_allowance)})\\')mdl=ruleset_dlifruleset_dl<mdlelsemdlpos_remaining,neg_remaining=base.rm_covered(pruned_rule,pos_remaining,neg_remaining)ifself.verbosity>=3:print(f\\'examplesremaining:{len(pos_remaining)}pos,{len(neg_remaining)}neg\\')print()returnrulesetdef_optimize_ruleset(self,ruleset,pos_df,neg_df,prune_size,random_state=None):ifself.verbosity>=2:print(\\'optimizingruleset...\\')print()pos_remaining=pos_df.copy()neg_remaining=neg_df.copy()original_ruleset=copy.deepcopy(ruleset)ifself.verbosity>=4:print(\\'calculateoriginalrulesetpotentialdl...\\')original_dl=_rs_total_bits(original_ruleset,original_ruleset.possible_conds,pos_df,neg_df,bestsubset_dl=True,verbosity=self.verbosity)ifself.verbosity>=3:print(f\\'originalrulesetpotentialdl:{rnd(original_dl)}\\')print()new_ruleset=copy.deepcopy(ruleset)fori,ruleinenumerate(original_ruleset.rules):pos_growset,pos_pruneset=base.df_shuffled_split(pos_remaining,(1-prune_size),random_state=random_state)neg_growset,neg_pruneset=base.df_shuffled_split(neg_remaining,(1-prune_size),random_state=random_state)iflen(pos_growset)==0:breakifself.verbosity>=4:print(f\\'creatingreplacementfor{i}of{len(original_ruleset.rules)}:{ruleset.rules[i]}\\')g_replacement=base.grow_rule(pos_growset,neg_growset,original_ruleset.possible_conds,initial_rule=Rule(),verbosity=self.verbosity)replacement_ruleset=Ruleset(base.i_replaced(original_ruleset.rules,i,g_replacement))pr_replacement=base.prune_rule(g_replacement,_RIPPER_optimization_prune_metric,pos_pruneset,neg_pruneset,eval_index_on_ruleset=(i,replacement_ruleset),verbosity=self.verbosity)replacement_ruleset=Ruleset(base.i_replaced(original_ruleset.rules,i,pr_replacement))ifself.verbosity>=3:print(f\\'grewreplacement{g_replacement}\\')print(f\\'prunedreplacementis{pr_replacement}\\')ifself.verbosity>=3:print(f\\'creatingrevisionfor{i}of{len(original_ruleset.rules)}:{ruleset.rules[i]}\\')g_revision=base.grow_rule(pos_growset,neg_growset,original_ruleset.possible_conds,initial_rule=ruleset.rules[i],verbosity=self.verbosity)revision_ruleset=Ruleset(base.i_replaced(original_ruleset.rules,i,g_revision))pr_revision=base.prune_rule(g_revision,_RIPPER_optimization_prune_metric,pos_pruneset,neg_pruneset,eval_index_on_ruleset=(i,revision_ruleset),verbosity=self.verbosity)revision_ruleset=Ruleset(base.i_replaced(original_ruleset.rules,i,pr_revision))ifself.verbosity>=3:print(f\\'grewrevision{g_replacement}\\')print(f\\'prunedrevisionis{pr_replacement}\\')print()ifself.verbosity>=3:print(f\\'calculatepotentialdlfordswithreplacement{pr_replacement}\\')replacement_dl=_rs_total_bits(replacement_ruleset,original_ruleset.possible_conds,pos_df,neg_df,bestsubset_dl=True,verbosity=self.verbosity)\\\\ifpr_replacement!=ruleelseoriginal_dlifself.verbosity>=3:print(f\\'calculatepotentialdlfordswithrevision{pr_revision}\\')revision_dl=_rs_total_bits(revision_ruleset,original_ruleset.possible_conds,pos_df,neg_df,bestsubset_dl=True,verbosity=self.verbosity)\\\\ifpr_revision!=ruleelseoriginal_dlbest_rule=[rule,pr_replacement,pr_revision][base.argmin([original_dl,replacement_dl,revision_dl])]ifself.verbosity>=2:print(f\\'\\\\nrule{i+1}of{len(original_ruleset.rules)}\\')rep_str=pr_replacement.__str__()ifpr_replacement!=ruleelse\\'unchanged\\'rev_str=pr_revision.__str__()ifpr_revision!=ruleelse\\'unchanged\\'best_str=best_rule.__str__()ifbest_rule!=ruleelse\\'unchanged\\'ifself.verbosity==2:print(f\\'original:{rule}\\')print(f\\'replacement:{rep_str}\\')print(f\\'revision:{rev_str}\\')print(f\\'*best:{best_str}\\')print()else:print(f\\'original:{rule})|{rnd(original_dl)}bits\\')print(f\\'replacement:{rep_str}|{rnd(replacement_dl)}bits\\')print(f\\'revision:{rev_str}|{rnd(revision_dl)}bits\\')print(f\\'*best:{best_str}|{rnd(min([replacement_dl,revision_dl,original_dl]))}bits\\')print()new_ruleset.rules[i]=best_rulepos_remaining,neg_remaining=base.rm_covered(rule,pos_remaining,neg_remaining)ifself.verbosity>=3:print(f\\'examplesremaining:{len(pos_remaining)}pos,{len(neg_remaining)}neg\\')print()iflen(pos_remaining)==0:breakreturnnew_rulesetdef_set_possible_conds(self,df):self.possible_conds=[]forfeatindf.columns.values:forvalindf[feat].unique():self.possible_conds.append(Cond(feat,val))classRulesetStats:def__init__(self):self.subset_dls=[]self.ruleset=Ruleset()self.dl=0defupdate(self,ruleset,possible_conds,pos_df,neg_df,verbosity=0):index=0whileindex<len(self.ruleset)and\\\\index<len(ruleset)and\\\\self.ruleset[index]==ruleset[index]:index+=1ifindex==len(ruleset)andindex==len(self.ruleset):ifverbosity>=4:print(f\\'notupdatingstats--norulesetchangefound\\')returnifverbosity>=4:print(f\\'updatingstatsfromindex{index}\\')self.ruleset.rules[index:]=ruleset[index:]self.subset_dls=self.subset_dls[:index]foriinrange(index,len(ruleset)):rule=ruleset[i]subset=Ruleset(ruleset.rules[:i+1])subset_dl=_rs_total_bits(subset,possible_conds,pos_df,neg_df,verbosity=verbosity)self.subset_dls.append(subset_dl)self.dl=self.subset_dls[-1]defdl_change(self,index):returnself.subset_dls[index]-self.subset_dls[index-1]defpotential_dl_stats(self,possible_conds,pos_df,neg_df,ret_ruleset=True,ret_dl=False,verbosity=0):ifnotany((ret_ruleset,ret_dl)):raiseValueError(\\'methoddl_pruned_rulesetcalledwithoutanyreturnvaluesspecified\\')tempStats=copy.deepcopy(self)i=len(tempStats.ruleset)-1whilei>0:iftempStats.dl_change(i)>0:ifverbosity>=4:print(f\\'rule{i}raiseddl--removing\\')tempStats.update(Ruleset(tempStats.ruleset[:i]+tempStats.ruleset[i+1:]),possible_conds,pos_df,neg_df)ifverbosity>=4:print(f\\'newrulesetis{tempStats.ruleset}\\')i-=1returntempStatsdef_RIPPER_growphase_prune_metric(rule,pos_pruneset,neg_pruneset):p=rule.num_covered(pos_pruneset)n=rule.num_covered(neg_pruneset)return(p-n+1)/(p+n+1)def_RIPPER_optimization_prune_metric(rule,pos_pruneset,neg_pruneset):returnbase.accuracy(rule,pos_pruneset,neg_pruneset)def_r_theory_bits(rule,possible_conds,bits_dict=None,verbosity=0):ifhasattr(rule,\\'dl\\'):returnrule.dlelse:iftype(rule)!=Rule:raiseTypeError(f\\'paramrulein_r_theory_bitsistype{type(rule)};itshouldbetypeRule\\')k=len(rule.conds)n=len(possible_conds)pr=k/nS=k*math.log2(1/pr)+(n-k)*math.log2((1/(1-pr)))K=math.log2(k)rule_dl=0.5*(K+S)ifverbosity>=5:print(f\\'ruletheorybits|{rule}k{k}n{n}pr{rnd(pr)}:{rnd(rule_dl)}bits\\')returnrule_dldef_rs_theory_bits(ruleset,possible_conds,pos_df,neg_df,verbosity=0):iftype(ruleset)!=Ruleset:raiseTypeError(f\\'paramrulesetin_rs_theory_bitsshouldbetypeRuleset\\')total=0forruleinruleset.rules:total+=_r_theory_bits(rule,possible_conds,verbosity=verbosity)ifverbosity>=5:print(f\\'rulesettheorybits|{rnd(total)}\\')returntotaldef_exceptions_bits(ruleset,pos_df,neg_df,verbosity=0):iftype(ruleset)!=Ruleset:raiseTypeError(f\\'toavoiddouble-counting,_exceptions_bitsshouldcalculateexceptionsoverentiresetofruleswithtypeRuleset\\')N=len(pos_df)+len(neg_df)p=ruleset.num_covered(pos_df)+ruleset.num_covered(neg_df)fp=ruleset.num_covered(neg_df)fn=len(pos_df)-ruleset.num_covered(pos_df)exceptions_dl=math.log2(base.nCr(p,fp))+math.log2(base.nCr((N-p),fn))ifverbosity>=5:print(f\\'exceptions_bits|{ruleset.truncstr()}:\\\\nN{N}p{p}fp{fp}fn{fn}:exceptions_bits{rnd(exceptions_dl)}\\')returnexceptions_dldef_rs_total_bits(ruleset,possible_conds,pos_df,neg_df,bestsubset_dl=False,ret_bestsubset=False,verbosity=0):iftype(ruleset)!=Ruleset:raiseTypeError(f\\'paramrulesetin_rs_total_bitsshouldbetypeRuleset\\')ifret_bestsubsetandnotbestsubset_dl:raiseValueError(f\\'bestsubset_dlmustbeTrueinordertoreturnbestsubset_dl\\')ifnotbestsubset_dl:theory_bits=_rs_theory_bits(ruleset,possible_conds,pos_df,neg_df,verbosity=verbosity)data_bits=_exceptions_bits(ruleset,pos_df,neg_df,verbosity=verbosity)ifverbosity>=3:print(f\\'totalrulesetbits|{rnd(theory_bits+data_bits)}\\')returntheory_bits+data_bitselse:subset_dls=[]theory_dl=0ifverbosity>=5:print(f\\'findbestpotentialdlfor{ruleset}:\\')fori,ruleinenumerate(ruleset.rules):subset=Ruleset(ruleset.rules[:i+1])rule_theory_dl=_r_theory_bits(rule,possible_conds,verbosity=verbosity)theory_dl+=rule_theory_dlexceptions_dl=_exceptions_bits(subset,pos_df,neg_df,verbosity=verbosity)subset_dls.append(theory_dl+exceptions_dl)ifverbosity>=5:print(f\\'subset0-{i}|dl:{rnd(subset_dls[i])}\\')mdl_ruleset=Ruleset()fori,rule,inenumerate(ruleset.rules):ifi==0orsubset_dls[i]<=subset_dls[i-1]:mdl_ruleset.add(rule)ifverbosity>=5:print(f\\'subsetdls:{[(i,rnd(dl))fori,dlinenumerate(subset_dls)]}\\')print(f\\'bestpotentialruleset:{mdl_ruleset}\\')mdl=_rs_total_bits(mdl_ruleset,possible_conds,pos_df,neg_df,bestsubset_dl=False,verbosity=0)ifverbosity>=5:print(f\\'bestpotentialdlwas{rnd(mdl)}\\')print()ifnotret_bestsubset:returnmdlelse:return(mdl_ruleset,mdl)'"
      ]
     },
     "execution_count": 6,
     "metadata": {},
     "output_type": "execute_result"
    }
   ],
   "source": [
    "import re\n",
    "re.sub(r'\"\"\".*?\"\"\"', '', x)\n"
   ]
  },
  {
   "cell_type": "code",
   "execution_count": 8,
   "metadata": {},
   "outputs": [
    {
     "name": "stdout",
     "output_type": "stream",
     "text": [
      "You saved 904 bytes\n"
     ]
    }
   ],
   "source": [
    "nmpy.fit_score(minipypy)"
   ]
  },
  {
   "cell_type": "code",
   "execution_count": 10,
   "metadata": {},
   "outputs": [
    {
     "data": {
      "text/plain": [
       "'/Users/ilanmoscovitz/Documents/Metis/Projects/minipy_project'"
      ]
     },
     "execution_count": 10,
     "metadata": {},
     "output_type": "execute_result"
    }
   ],
   "source": [
    "%pwd"
   ]
  },
  {
   "cell_type": "code",
   "execution_count": 12,
   "metadata": {},
   "outputs": [
    {
     "name": "stdout",
     "output_type": "stream",
     "text": [
      "import re\r\n",
      "import sys\r\n",
      "import warnings\r\n",
      "\r\n",
      "def min(filename, save=True, random_state=42):\r\n",
      "    \"\"\" Saves and returns a minimized version of a .py file.\r\n",
      "\r\n",
      "        args:\r\n",
      "            filename<str>: path and filename of your bloated source code\r\n",
      "\r\n",
      "            save<bool> (optional): autosave the minimized version\r\n",
      "            random_state<int> (optional, default=42): does nothing\r\n",
      "    \"\"\"\r\n",
      "\r\n",
      "    if '.py' not in filename:\r\n",
      "        warnings.warn(f'IOWarning: minipy is intended for use with .py files. It may not work as intended for {filename}')\r\n",
      "\r\n",
      "    # Read in file, removing whitespace and inline comments, then remove docstrings\r\n",
      "    code = []\r\n",
      "    with open(filename, \"r\") as f:\r\n",
      "        for line in f:\r\n",
      "            line = rm_whitespace(line)\r\n",
      "            line = rm_inlinecomments(line)\r\n",
      "            code.append(line)\r\n",
      "    code = ''.join(code)\r\n",
      "    code = rm_docstrings(code)\r\n",
      "\r\n",
      "    # Autosave, if applicable\r\n",
      "    if save:\r\n",
      "        newfilename = filename.replace('.py','_min.py')\r\n",
      "        with open(newfilename, 'w+') as f:\r\n",
      "            f.write(code)\r\n",
      "\r\n",
      "    return code\r\n",
      "\r\n",
      "def score(filename):\r\n",
      "    with open(filename, 'r') as f:\r\n",
      "        oldsize = sys.getsizeof(f.read())\r\n",
      "    try:\r\n",
      "        with open(filename.replace('.py','_min.py'), 'r') as f:\r\n",
      "            newsize = sys.getsizeof(f.read())\r\n",
      "    except:\r\n",
      "        newsize = sys.getsizeof(min(filename, save=False))\r\n",
      "\r\n",
      "    print(f'You saved {oldsize - newsize} bytes')\r\n",
      "\r\n",
      "def fit_score(filename):\r\n",
      "    with open(filename, 'r') as f:\r\n",
      "        oldsize = sys.getsizeof(f.read())\r\n",
      "    newsize = sys.getsizeof(min(filename, save=True))\r\n",
      "\r\n",
      "    print(f'You saved {oldsize - newsize} bytes')\r\n",
      "\r\n",
      "def rm_whitespace(string):\r\n",
      "    for tok in ['\\n','\\t','\\r',' ']:\r\n",
      "        string = string.replace(tok,'')\r\n",
      "    return string\r\n",
      "\r\n",
      "def rm_inlinecomments(line):\r\n",
      "    result = []\r\n",
      "    for char in line:\r\n",
      "        if char != '#':\r\n",
      "            result.append(char)\r\n",
      "        else:\r\n",
      "            break\r\n",
      "    return ''.join(result)\r\n",
      "\r\n",
      "def rm_docstrings(text_block):\r\n",
      "    text_block = re.sub(r'\"\"\".*?\"\"\"', '', text_block)\r\n",
      "    text_block = re.sub(r\"'''.*?'''\", '', text_block)\r\n",
      "    return text_block\r\n"
     ]
    }
   ],
   "source": [
    "%cat 'minipy/minipy.py'"
   ]
  },
  {
   "cell_type": "code",
   "execution_count": 15,
   "metadata": {},
   "outputs": [
    {
     "name": "stdout",
     "output_type": "stream",
     "text": [
      "12.4 ns ± 0.102 ns per loop (mean ± std. dev. of 7 runs, 100000000 loops each)\n"
     ]
    }
   ],
   "source": [
    "%timeit 1"
   ]
  },
  {
   "cell_type": "code",
   "execution_count": null,
   "metadata": {},
   "outputs": [],
   "source": []
  }
 ],
 "metadata": {
  "kernelspec": {
   "display_name": "Python 3",
   "language": "python",
   "name": "python3"
  },
  "language_info": {
   "codemirror_mode": {
    "name": "ipython",
    "version": 3
   },
   "file_extension": ".py",
   "mimetype": "text/x-python",
   "name": "python",
   "nbconvert_exporter": "python",
   "pygments_lexer": "ipython3",
   "version": "3.6.7"
  }
 },
 "nbformat": 4,
 "nbformat_minor": 2
}
